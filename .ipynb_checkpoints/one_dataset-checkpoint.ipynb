{
 "cells": [
  {
   "cell_type": "code",
   "execution_count": 1,
   "metadata": {},
   "outputs": [],
   "source": [
    "import warnings\n",
    "warnings.filterwarnings('ignore')\n",
    "import pandas as pd\n",
    "import numpy as np\n",
    "from models import DecisionTreeRegressor_Modified,DecisionTreeClassifier_Modified\n",
    "from sklearn.model_selection import StratifiedKFold,KFold\n",
    "from my_forest import RandomForestClassifier_Modified\n",
    "from tqdm.auto import tqdm\n",
    "from configs import ionosphere,music, Wids2021,fetal_health\n",
    "from sklearn.metrics import mean_squared_error, r2_score,roc_auc_score,accuracy_score\n",
    "from skopt import gp_minimize, forest_minimize\n",
    "from skopt.utils import use_named_args\n",
    "from skopt.plots import plot_objective, plot_evaluations, plot_convergence, plot_regret\n",
    "from skopt.space import Categorical, Integer, Real"
   ]
  },
  {
   "cell_type": "code",
   "execution_count": 2,
   "metadata": {},
   "outputs": [],
   "source": [
    "def calculate_final_score_class(rf_clf,x_val,y_val,A,N,CFG):\n",
    "    y_pred = rf_clf.predict_proba(x_val,A,N,False)\n",
    "    auc = roc_auc_score(y_val,y_pred if CFG.multi_class else y_pred[:,1],multi_class='ovo' if CFG.multi_class else \"raise\")\n",
    "    return auc"
   ]
  },
  {
   "cell_type": "code",
   "execution_count": 3,
   "metadata": {},
   "outputs": [],
   "source": [
    "def optimize(space, rf_clf, x_val,y_val,CFG,fold,fun, n_calls=50):\n",
    "    @use_named_args(space)\n",
    "    def score(**params):\n",
    "        final_score = fun(rf_clf,x_val,y_val,CFG=CFG, **params)\n",
    "        return -final_score\n",
    "    return gp_minimize(func=score, dimensions=space, n_calls=n_calls)"
   ]
  },
  {
   "cell_type": "code",
   "execution_count": null,
   "metadata": {},
   "outputs": [],
   "source": [
    "def predict_proba_with_tta(data, \n",
    "                           model, \n",
    "                           dummies = None, \n",
    "                           num_tta = 4, \n",
    "                           alpha   = 0.01, \n",
    "                           beta    = 0.01, \n",
    "                           seed    = 0):\n",
    "    '''\n",
    "    Predicts class probabilities using TTA.\n",
    "    \n",
    "    Arguments:\n",
    "    - data (numpy array): data set with the feature values \n",
    "    - model (sklearn model): machine learning model\n",
    "    - dummies (list): list of column names of dummy features\n",
    "    - num_tta (integer): number of test-time augmentations\n",
    "    - alpha (float): noise parameter for continuous features\n",
    "    - beta (float): noise parameter for dummy features\n",
    "    - seed (integer): random seed\n",
    "\n",
    "    Returns:\n",
    "    - array of predicted probabilities\n",
    "    '''\n",
    "    \n",
    "    # set random seed\n",
    "    np.random.seed(seed = seed)\n",
    "    \n",
    "    # original prediction\n",
    "    preds = model.predict_proba(data) / (num_tta + 1)\n",
    "     \n",
    "    # select numeric features\n",
    "    num_vars = [var for var in data.columns if data[var].dtype != 'object']\n",
    "        \n",
    "    # find dummies\n",
    "    if dummies != None:\n",
    "        num_vars = list(set(num_vars) - set(dummies))\n",
    "    \n",
    "    # synthetic predictions\n",
    "    for i in range(num_tta):\n",
    "        \n",
    "        # copy data\n",
    "        data_new = data.copy()\n",
    "    \n",
    "        # introduce noise to numeric vars\n",
    "        for var in num_vars:\n",
    "            data_new[var] = data_new[var] + alpha * np.random.normal(0, 1, size = len(data_new)) * data_new[var].std()\n",
    "            \n",
    "        # introduce noise to dummies\n",
    "        if dummies != None:\n",
    "            for var in dummies:\n",
    "                probs = np.random.binomial(1, (1 - beta), size = len(data_new))\n",
    "                data_new.loc[probs == 0, var] = 1 - data_new.loc[probs == 0, var]\n",
    "            \n",
    "        # predict probs\n",
    "        preds_new = model.predict_proba(data_new) \n",
    "        preds    += preds_new / (num_tta + 1)\n",
    "    \n",
    "    # return probs\n",
    "    return preds"
   ]
  },
  {
   "cell_type": "code",
   "execution_count": 4,
   "metadata": {},
   "outputs": [],
   "source": [
    "def run_one_dataset(CFG):\n",
    "    #load data\n",
    "    skf = CFG.kfold(n_splits=CFG.n_folds, random_state=CFG.random_state,shuffle=True)\n",
    "    df = CFG.df.fillna(0).reset_index(drop=True)\n",
    "    if CFG.preprocces:\n",
    "        df = CFG.preprocces(df)\n",
    "    \n",
    "    train_features = df.drop(CFG.label_col, axis=1)\n",
    "    labels = df[CFG.label_col]\n",
    "    N_df,fet = df.shape\n",
    "\n",
    "    history = []\n",
    "    y_preds= []\n",
    "    y_preds2 = []\n",
    "    y_true= []\n",
    "    y_preds_without_augmentation = []\n",
    "\n",
    "    skf_split = skf.split(train_features,labels) if CFG.kfold == StratifiedKFold else skf.split(train_features)\n",
    "    for fold,(train_index, val_index) in enumerate(tqdm(skf_split)):\n",
    "        # build model\n",
    "        x_train,y_train = train_features.loc[train_index],labels.loc[train_index]\n",
    "        x_val,y_val = train_features.loc[val_index],labels.loc[val_index]\n",
    "        \n",
    "        rf_clf = CFG.model(random_state=CFG.random_state,min_samples_split=N_df//100,min_samples_leaf=N_df//100,max_leaf_nodes=300)\n",
    "        rf_clf.fit(x_train,y_train)\n",
    "\n",
    "        # call predict\n",
    "\n",
    "        space = [Real(0.0, 0.7, name='A'),Integer(1, 2, name='N'),] # Bayesian optimization\n",
    "        opt_result = optimize(space,rf_clf, x_val,y_val,CFG,fold,fun=calculate_final_score_class, n_calls=CFG.n_calls)\n",
    "        A = opt_result.x[0]\n",
    "        N = opt_result.x[1]\n",
    "        print('A:',A,'N:',N)\n",
    "        y_pred = rf_clf.predict_proba(x_val,A,N,to_print=False)\n",
    "\n",
    "        y_pred2 =  predict_proba_with_tta(data    = x_val, \n",
    "                                                         model   = rf_clf, \n",
    "                                                         dummies = None,\n",
    "                                                         num_tta = 5, \n",
    "                                                         alpha   = np.sqrt(len(x_train)) / 3000,\n",
    "                                                         beta    = np.sqrt(len(x_train)) / 30000,\n",
    "                                                         seed    = 1)\n",
    "\n",
    "        y_pred_without_augmantation = rf_clf.predict_proba(x_val,0,1,to_print=False)\n",
    "\n",
    "\n",
    "        auc = roc_auc_score(y_val,y_pred if CFG.multi_class else y_pred[:,1],multi_class='ovo' if CFG.multi_class else \"raise\")\n",
    "        acc = accuracy_score(y_val.astype(int),y_pred.argmax(1).astype(int))\n",
    "        \n",
    "        auc2 = roc_auc_score(y_val,y_pred2 if CFG.multi_class else y_pred2[:,1],multi_class='ovo' if CFG.multi_class else \"raise\")\n",
    "        acc2 = accuracy_score(y_val.astype(int),y_pred2.argmax(1).astype(int))\n",
    "        \n",
    "\n",
    "        auc_base = roc_auc_score(y_val,y_pred_without_augmantation if CFG.multi_class else y_pred_without_augmantation[:,1],multi_class='ovo' if CFG.multi_class else \"raise\")\n",
    "        acc_base = accuracy_score(y_val.astype(int),y_pred_without_augmantation.argmax(1).astype(int))\n",
    "\n",
    "        print('modified. auc:{auc:.6f}, acc:{acc:.6f}'.format(auc=auc,acc=acc))\n",
    "        print('modified 2.   auc:{auc:.6f}, acc:{acc:.6f}'.format(auc=auc2,acc=acc2))\n",
    "        print('normal.   auc:{auc:.6f}, acc:{acc:.6f}'.format(auc=auc_base,acc=acc_base))\n",
    "        history.append({\"model\":rf_clf,'y_pred':y_pred,\"y_pred_without_random\":y_pred_without_augmantation,\n",
    "                        \"auc\":auc,\n",
    "                        \"acc\":acc,\n",
    "                        \"auc2\":auc2,\n",
    "                        \"acc2\":acc2,\n",
    "                        \"auc_base\":auc_base,\n",
    "                        \"acc_base\":acc_base,\n",
    "                        \"y_val\":y_val,\n",
    "                        \"alpha\":A,\"iter\":N,\"opt_result\":opt_result})\n",
    "        y_preds.append(y_pred)\n",
    "\n",
    "        y_preds2.append(y_pred2)\n",
    "        \n",
    "        y_true.append(y_val)\n",
    "\n",
    "        y_preds_without_augmentation.append(y_pred_without_augmantation)\n",
    "\n",
    "    cv_auc = roc_auc_score(np.concatenate(y_true),np.concatenate(y_preds) if CFG.multi_class else np.concatenate(y_preds)[:,1],multi_class='ovo' if CFG.multi_class else \"raise\")\n",
    "    cv_acc = accuracy_score(np.concatenate(y_true).astype(int),np.concatenate(y_preds).argmax(1).astype(int))\n",
    "    \n",
    "    cv_auc2 = roc_auc_score(np.concatenate(y_true),np.concatenate(y_preds2) if CFG.multi_class else np.concatenate(y_preds2)[:,1],multi_class='ovo' if CFG.multi_class else \"raise\")\n",
    "    cv_acc2 = accuracy_score(np.concatenate(y_true).astype(int),np.concatenate(y_preds2).argmax(1).astype(int))\n",
    "    \n",
    "\n",
    "    cv_auc_without_augmentation = roc_auc_score(np.concatenate(y_true),np.concatenate(y_preds_without_augmentation) if CFG.multi_class else np.concatenate(y_preds_without_augmentation)[:,1],multi_class='ovo' if CFG.multi_class else \"raise\")\n",
    "    msg = f\"datasets {CFG.d_name}, val oof auc score {cv_auc}, val oof auc2 score {cv_auc2},  auc score without random  - {cv_auc_without_augmentation}, total size {N_df}, num fet {fet}\"\n",
    "    print(msg)\n",
    "    history.append(msg)\n",
    "    \n",
    "    return history,cv_auc,cv_acc"
   ]
  },
  {
   "cell_type": "code",
   "execution_count": 5,
   "metadata": {},
   "outputs": [
    {
     "data": {
      "application/vnd.jupyter.widget-view+json": {
       "model_id": "9a402d37722341d8bc6fb5df0abac82e",
       "version_major": 2,
       "version_minor": 0
      },
      "text/plain": [
       "0it [00:00, ?it/s]"
      ]
     },
     "metadata": {},
     "output_type": "display_data"
    },
    {
     "name": "stdout",
     "output_type": "stream",
     "text": [
      "A: 0.0511565560642777 N: 2\n"
     ]
    },
    {
     "ename": "NameError",
     "evalue": "name 'predict_proba_with_tta' is not defined",
     "output_type": "error",
     "traceback": [
      "\u001b[0;31m---------------------------------------------------------------------------\u001b[0m",
      "\u001b[0;31mNameError\u001b[0m                                 Traceback (most recent call last)",
      "\u001b[0;32m/var/folders/j0/k0h6p8hn157gz89pd14_bstm0000gn/T/ipykernel_11048/1421086332.py\u001b[0m in \u001b[0;36m<cell line: 2>\u001b[0;34m()\u001b[0m\n\u001b[1;32m      1\u001b[0m \u001b[0mCFG\u001b[0m \u001b[0;34m=\u001b[0m \u001b[0mionosphere\u001b[0m\u001b[0;34m(\u001b[0m\u001b[0;34m)\u001b[0m\u001b[0;34m\u001b[0m\u001b[0;34m\u001b[0m\u001b[0m\n\u001b[0;32m----> 2\u001b[0;31m \u001b[0mhistory\u001b[0m\u001b[0;34m,\u001b[0m\u001b[0mcv_auc\u001b[0m\u001b[0;34m,\u001b[0m\u001b[0mcv_acc\u001b[0m \u001b[0;34m=\u001b[0m \u001b[0mrun_one_dataset\u001b[0m\u001b[0;34m(\u001b[0m\u001b[0mCFG\u001b[0m\u001b[0;34m)\u001b[0m\u001b[0;34m\u001b[0m\u001b[0;34m\u001b[0m\u001b[0m\n\u001b[0m",
      "\u001b[0;32m/var/folders/j0/k0h6p8hn157gz89pd14_bstm0000gn/T/ipykernel_11048/2442479293.py\u001b[0m in \u001b[0;36mrun_one_dataset\u001b[0;34m(CFG)\u001b[0m\n\u001b[1;32m     34\u001b[0m         \u001b[0my_pred\u001b[0m \u001b[0;34m=\u001b[0m \u001b[0mrf_clf\u001b[0m\u001b[0;34m.\u001b[0m\u001b[0mpredict_proba\u001b[0m\u001b[0;34m(\u001b[0m\u001b[0mx_val\u001b[0m\u001b[0;34m,\u001b[0m\u001b[0mA\u001b[0m\u001b[0;34m,\u001b[0m\u001b[0mN\u001b[0m\u001b[0;34m,\u001b[0m\u001b[0mto_print\u001b[0m\u001b[0;34m=\u001b[0m\u001b[0;32mFalse\u001b[0m\u001b[0;34m)\u001b[0m\u001b[0;34m\u001b[0m\u001b[0;34m\u001b[0m\u001b[0m\n\u001b[1;32m     35\u001b[0m \u001b[0;34m\u001b[0m\u001b[0m\n\u001b[0;32m---> 36\u001b[0;31m         y_pred2 =  predict_proba_with_tta(data    = x_val, \n\u001b[0m\u001b[1;32m     37\u001b[0m                                                          \u001b[0mmodel\u001b[0m   \u001b[0;34m=\u001b[0m \u001b[0mrf_clf\u001b[0m\u001b[0;34m,\u001b[0m\u001b[0;34m\u001b[0m\u001b[0;34m\u001b[0m\u001b[0m\n\u001b[1;32m     38\u001b[0m                                                          \u001b[0mdummies\u001b[0m \u001b[0;34m=\u001b[0m \u001b[0;32mNone\u001b[0m\u001b[0;34m,\u001b[0m\u001b[0;34m\u001b[0m\u001b[0;34m\u001b[0m\u001b[0m\n",
      "\u001b[0;31mNameError\u001b[0m: name 'predict_proba_with_tta' is not defined"
     ]
    }
   ],
   "source": [
    "CFG = ionosphere()\n",
    "history,cv_auc,cv_acc = run_one_dataset(CFG)"
   ]
  },
  {
   "cell_type": "code",
   "execution_count": null,
   "metadata": {},
   "outputs": [
    {
     "data": {
      "application/vnd.jupyter.widget-view+json": {
       "model_id": "1c262d3053524a2381ce4101a66babc3",
       "version_major": 2,
       "version_minor": 0
      },
      "text/plain": [
       "0it [00:00, ?it/s]"
      ]
     },
     "metadata": {},
     "output_type": "display_data"
    },
    {
     "name": "stdout",
     "output_type": "stream",
     "text": [
      "A: 0.0702785579024646 N: 2\n",
      "modified. auc:0.912286, acc:0.469444\n",
      "modified 2.   auc:0.910544, acc:0.457778\n",
      "normal.   auc:0.912236, acc:0.468611\n",
      "A: 0.601388010535543 N: 2\n",
      "modified. auc:0.908417, acc:0.468186\n",
      "modified 2.   auc:0.904435, acc:0.454571\n",
      "normal.   auc:0.908365, acc:0.467630\n",
      "A: 0.5077540761949725 N: 1\n"
     ]
    }
   ],
   "source": [
    "CFG = music()\n",
    "history,cv_auc,cv_acc = run_one_dataset(CFG)"
   ]
  },
  {
   "cell_type": "code",
   "execution_count": null,
   "metadata": {},
   "outputs": [],
   "source": []
  }
 ],
 "metadata": {
  "kernelspec": {
   "display_name": "Python 3 (ipykernel)",
   "language": "python",
   "name": "python3"
  },
  "language_info": {
   "codemirror_mode": {
    "name": "ipython",
    "version": 3
   },
   "file_extension": ".py",
   "mimetype": "text/x-python",
   "name": "python",
   "nbconvert_exporter": "python",
   "pygments_lexer": "ipython3",
   "version": "3.10.4"
  },
  "vscode": {
   "interpreter": {
    "hash": "82595bd2b2069ccb6d1ac59e6bd6e9eaab28e59d5748ed3226bea45e61f239f4"
   }
  }
 },
 "nbformat": 4,
 "nbformat_minor": 4
}
